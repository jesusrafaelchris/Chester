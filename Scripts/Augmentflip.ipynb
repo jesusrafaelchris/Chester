{
 "cells": [
  {
   "cell_type": "code",
   "execution_count": 33,
   "metadata": {},
   "outputs": [],
   "source": [
    "import cv2\n",
    "import random\n",
    "import glob\n",
    "\n",
    "path = glob.glob(\"/Users/christiangrinling/Desktop/ChessRobot/Scripts/finish/*.jpg\")\n",
    "cv_img = []\n",
    "for img in path:\n",
    "\n",
    "  originalImage = cv2.imread(img)\n",
    "\n",
    "  flipVertical = cv2.flip(originalImage, 0)\n",
    "  flipHorizontal = cv2.flip(originalImage, 1)\n",
    "  flipBoth = cv2.flip(originalImage, -1)\n",
    "\n",
    "  x = random.randint(102,10000)\n",
    "  y = random.randint(102,10000)\n",
    "\n",
    "  cv2.imwrite('finish/flippedv_{}.png'.format(x),flipVertical)\n",
    "  x += y\n",
    "  cv2.imwrite('finish/flippedh_{}.png'.format(x),flipHorizontal)\n",
    "  x += y\n",
    "  cv2.imwrite('finish/flippedb_{}.png'.format(x),flipBoth)\n",
    "  x += y"
   ]
  },
  {
   "cell_type": "code",
   "execution_count": null,
   "metadata": {},
   "outputs": [],
   "source": []
  }
 ],
 "metadata": {
  "kernelspec": {
   "display_name": "Python 3",
   "language": "python",
   "name": "python3"
  },
  "language_info": {
   "codemirror_mode": {
    "name": "ipython",
    "version": 3
   },
   "file_extension": ".py",
   "mimetype": "text/x-python",
   "name": "python",
   "nbconvert_exporter": "python",
   "pygments_lexer": "ipython3",
   "version": "3.7.3"
  }
 },
 "nbformat": 4,
 "nbformat_minor": 2
}
